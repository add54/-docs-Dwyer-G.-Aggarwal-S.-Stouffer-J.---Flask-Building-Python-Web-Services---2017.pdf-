{
  "nbformat": 4,
  "nbformat_minor": 0,
  "metadata": {
    "colab": {
      "provenance": [],
      "authorship_tag": "ABX9TyOpwcavxCxjOBG2ERq8k9Yc",
      "include_colab_link": true
    },
    "kernelspec": {
      "name": "python3",
      "display_name": "Python 3"
    },
    "language_info": {
      "name": "python"
    }
  },
  "cells": [
    {
      "cell_type": "markdown",
      "metadata": {
        "id": "view-in-github",
        "colab_type": "text"
      },
      "source": [
        "<a href=\"https://colab.research.google.com/github/add54/-docs-Dwyer-G.-Aggarwal-S.-Stouffer-J.---Flask-Building-Python-Web-Services---2017.pdf-/blob/master/VideoUtybeToTxt.ipynb\" target=\"_parent\"><img src=\"https://colab.research.google.com/assets/colab-badge.svg\" alt=\"Open In Colab\"/></a>"
      ]
    },
    {
      "cell_type": "code",
      "execution_count": 5,
      "metadata": {
        "colab": {
          "base_uri": "https://localhost:8080/"
        },
        "id": "p36BnZ0WVgv9",
        "outputId": "c7fab3d3-9b13-4c17-af0b-131ad902c0ba"
      },
      "outputs": [
        {
          "output_type": "stream",
          "name": "stdout",
          "text": [
            "Requirement already satisfied: pytube in /usr/local/lib/python3.11/dist-packages (15.0.0)\n",
            "Requirement already satisfied: SpeechRecognition in /usr/local/lib/python3.11/dist-packages (3.14.2)\n",
            "Requirement already satisfied: pydub in /usr/local/lib/python3.11/dist-packages (0.25.1)\n",
            "Requirement already satisfied: typing-extensions in /usr/local/lib/python3.11/dist-packages (from SpeechRecognition) (4.12.2)\n"
          ]
        }
      ],
      "source": [
        "pip install pytube SpeechRecognition pydub\n"
      ]
    },
    {
      "cell_type": "code",
      "source": [
        "!pip install --upgrade pytube\n"
      ],
      "metadata": {
        "colab": {
          "base_uri": "https://localhost:8080/"
        },
        "id": "67nMib30V77i",
        "outputId": "04dbe2be-45ed-42e1-d187-a30f6dca9329"
      },
      "execution_count": 8,
      "outputs": [
        {
          "output_type": "stream",
          "name": "stdout",
          "text": [
            "Requirement already satisfied: pytube in /usr/local/lib/python3.11/dist-packages (15.0.0)\n"
          ]
        }
      ]
    },
    {
      "cell_type": "code",
      "source": [],
      "metadata": {
        "colab": {
          "base_uri": "https://localhost:8080/"
        },
        "id": "oNy39M-PWbhb",
        "outputId": "260b6566-07f3-46d1-d956-6134fb18ec77"
      },
      "execution_count": 7,
      "outputs": [
        {
          "output_type": "stream",
          "name": "stdout",
          "text": [
            "Requirement already satisfied: pytube in /usr/local/lib/python3.11/dist-packages (15.0.0)\n",
            "Requirement already satisfied: SpeechRecognition in /usr/local/lib/python3.11/dist-packages (3.14.2)\n",
            "Requirement already satisfied: pydub in /usr/local/lib/python3.11/dist-packages (0.25.1)\n",
            "Requirement already satisfied: typing-extensions in /usr/local/lib/python3.11/dist-packages (from SpeechRecognition) (4.12.2)\n",
            "An error occurred: HTTP Error 400: Bad Request\n"
          ]
        }
      ]
    },
    {
      "cell_type": "code",
      "source": [
        "# Assuming points 1 from above is completed\n",
        "import os\n",
        "import zipfile\n",
        "import requests\n",
        "\n",
        "# Ensure the pocketsphinx model is downloaded\n",
        "def download_pocketsphinx_model():\n",
        "    url = \"https://github.com/cmusphinx/pocketsphinx/blob/master/model/en-us/en-us.zip?raw=true\"\n",
        "    response = requests.get(url)\n",
        "    with open(\"pocketsphinx-en-us.zip\", \"wb\") as f:\n",
        "        f.write(response.content)\n",
        "\n",
        "    with zipfile.ZipFile(\"pocketsphinx-en-us.zip\", \"r\") as zip_ref:\n",
        "        zip_ref.extractall(\".\")\n",
        "\n",
        "# Uncomment the line below to run the download.\n",
        "# download_pocketsphinx_model()\n",
        "\n",
        "import yt_dlp\n",
        "import speech_recognition as sr\n",
        "\n",
        "def download_audio(video_url):\n",
        "    print(\"Attempting to download audio with yt-dlp...\")\n",
        "    ydl_opts = {\n",
        "        'format': 'bestaudio/best',\n",
        "        'outtmpl': 'audio.%(ext)s',\n",
        "        'postprocessors': [{\n",
        "            'key': 'FFmpegExtractAudio',\n",
        "            'preferredcodec': 'wav',\n",
        "            'preferredquality': '192',\n",
        "        }],\n",
        "    }\n",
        "\n",
        "    try:\n",
        "        with yt_dlp.YoutubeDL(ydl_opts) as ydl:\n",
        "            ydl.download([video_url])\n",
        "            print(\"Audio downloaded successfully!\")\n",
        "            return 'audio.wav'  # Return the expected output format\n",
        "    except Exception as e:\n",
        "        print(f\"Failed with yt-dlp: {e}\")\n",
        "        return None\n",
        "\n",
        "def transcribe_audio(audio_file_path):\n",
        "    recognizer = sr.Recognizer()\n",
        "    try:\n",
        "        with sr.AudioFile(audio_file_path) as source:\n",
        "            audio_data = recognizer.record(source)\n",
        "            # Using pocketsphinx with English model\n",
        "            text = recognizer.recognize_sphinx(audio_data)\n",
        "            print(\"Transcribed Text (English): \", text)\n",
        "    except sr.UnknownValueError:\n",
        "        print(\"Pocketsphinx could not understand the audio.\")\n",
        "    except sr.RequestError as e:\n",
        "        print(f\"Could not request results from Pocketsphinx; {e}\")\n",
        "\n",
        "def main(video_url):\n",
        "    audio_file_path = download_audio(video_url)\n",
        "    if audio_file_path:\n",
        "        transcribe_audio(audio_file_path)\n",
        "\n",
        "    # Clean up audio files\n",
        "    if os.path.exists('audio.wav'):\n",
        "        os.remove('audio.wav')\n",
        "\n",
        "# Replace with your YouTube video URL\n",
        "video_url = 'https://www.youtube.com/watch?v=AUMRGtpITaY'  # Example URL\n",
        "main(video_url)"
      ],
      "metadata": {
        "colab": {
          "base_uri": "https://localhost:8080/"
        },
        "id": "1lpsjuIZXCBd",
        "outputId": "4810c35d-91d6-483f-e56b-334e127d995c"
      },
      "execution_count": null,
      "outputs": [
        {
          "output_type": "stream",
          "name": "stdout",
          "text": [
            "Attempting to download audio with yt-dlp...\n",
            "[youtube] Extracting URL: https://www.youtube.com/watch?v=AUMRGtpITaY\n",
            "[youtube] AUMRGtpITaY: Downloading webpage\n",
            "[youtube] AUMRGtpITaY: Downloading tv client config\n",
            "[youtube] AUMRGtpITaY: Downloading player 363db69b\n",
            "[youtube] AUMRGtpITaY: Downloading tv player API JSON\n",
            "[youtube] AUMRGtpITaY: Downloading ios player API JSON\n",
            "[youtube] AUMRGtpITaY: Downloading m3u8 information\n",
            "[info] AUMRGtpITaY: Downloading 1 format(s): 251\n",
            "[download] Destination: audio.webm\n",
            "[download] 100% of   15.47MiB in 00:00:00 at 36.71MiB/s  \n",
            "[ExtractAudio] Destination: audio.wav\n",
            "Deleting original file audio.webm (pass -k to keep)\n",
            "Audio downloaded successfully!\n"
          ]
        }
      ]
    }
  ]
}