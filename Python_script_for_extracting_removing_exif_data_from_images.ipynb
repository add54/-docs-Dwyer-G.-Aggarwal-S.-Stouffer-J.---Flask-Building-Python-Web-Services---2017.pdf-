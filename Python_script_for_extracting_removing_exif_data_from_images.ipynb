{
  "nbformat": 4,
  "nbformat_minor": 0,
  "metadata": {
    "colab": {
      "name": "Python-script-for-extracting/removing-exif-data-from-images.ipynb",
      "provenance": [],
      "mount_file_id": "1dpa5nYBI09nydBv8dFfnzJacOLhRALED",
      "authorship_tag": "ABX9TyMSL+snOQ7T2h2xTPgZcSrh",
      "include_colab_link": true
    },
    "kernelspec": {
      "name": "python3",
      "display_name": "Python 3"
    },
    "language_info": {
      "name": "python"
    }
  },
  "cells": [
    {
      "cell_type": "markdown",
      "metadata": {
        "id": "view-in-github",
        "colab_type": "text"
      },
      "source": [
        "<a href=\"https://colab.research.google.com/github/add54/-docs-Dwyer-G.-Aggarwal-S.-Stouffer-J.---Flask-Building-Python-Web-Services---2017.pdf-/blob/master/Python_script_for_extracting_removing_exif_data_from_images.ipynb\" target=\"_parent\"><img src=\"https://colab.research.google.com/assets/colab-badge.svg\" alt=\"Open In Colab\"/></a>"
      ]
    },
    {
      "cell_type": "code",
      "execution_count": null,
      "metadata": {
        "colab": {
          "base_uri": "https://localhost:8080/"
        },
        "id": "lDNXSGUapYq5",
        "outputId": "55e02a81-8706-48db-b0c9-18bdba7a3ca8"
      },
      "outputs": [
        {
          "output_type": "stream",
          "name": "stdout",
          "text": [
            "Requirement already satisfied: pillow in /usr/local/lib/python3.7/dist-packages (7.1.2)\n"
          ]
        }
      ],
      "source": [
        "pip install pillow"
      ]
    },
    {
      "cell_type": "code",
      "source": [
        "pip install exif"
      ],
      "metadata": {
        "colab": {
          "base_uri": "https://localhost:8080/"
        },
        "id": "IydijFKxrDp4",
        "outputId": "d08e0ae7-34a4-4cb1-b1e9-c5842336accd"
      },
      "execution_count": 19,
      "outputs": [
        {
          "output_type": "stream",
          "name": "stdout",
          "text": [
            "Requirement already satisfied: exif in /usr/local/lib/python3.7/dist-packages (1.3.4)\n",
            "Requirement already satisfied: plum-py>=0.5.0 in /usr/local/lib/python3.7/dist-packages (from exif) (0.7.2)\n"
          ]
        }
      ]
    },
    {
      "cell_type": "code",
      "source": [
        "from exif import Image\n",
        "\n",
        "with open(\"/content/drive/MyDrive/Colab Notebooks/palm-tree-1.jfif\", \"rb\") as palm_1_file:\n",
        "    palm_1_image = Image(palm_1_file)\n",
        "    \n",
        "with open(\"/content/drive/MyDrive/Colab Notebooks/palm-tree-2.jfif\", \"rb\") as palm_2_file:\n",
        "    palm_2_image = Image(palm_2_file)\n",
        "\n",
        "images = [palm_1_image, palm_2_image]\n",
        "for index, image in enumerate(images):\n",
        "    if image.has_exif:\n",
        "        status = f\"contains EXIF (version {image.exif_version}) information.\"\n",
        "    else:\n",
        "        status = \"does not contain any EXIF information.\"\n",
        "    print(f\"Image {index} {status}\")"
      ],
      "metadata": {
        "colab": {
          "base_uri": "https://localhost:8080/"
        },
        "id": "DuB4-bFPp85J",
        "outputId": "846ab332-7507-4bf6-98d0-3de962285834"
      },
      "execution_count": 21,
      "outputs": [
        {
          "output_type": "stream",
          "name": "stdout",
          "text": [
            "Image 0 does not contain any EXIF information.\n",
            "Image 1 does not contain any EXIF information.\n"
          ]
        }
      ]
    },
    {
      "cell_type": "code",
      "source": [
        "image_members = []\n",
        "\n",
        "for image in images:\n",
        "    image_members.append(dir(image))\n",
        "\n",
        "for index, image_member_list in enumerate(image_members):\n",
        "    print(f\"Image {index} contains {len(image_member_list)} members:\")\n",
        "    print(f\"{image_member_list}\\n\")"
      ],
      "metadata": {
        "id": "7nGGuVTEwfOQ",
        "outputId": "b5d10884-c9d9-49fb-8315-d8ce7885ac61",
        "colab": {
          "base_uri": "https://localhost:8080/"
        }
      },
      "execution_count": 22,
      "outputs": [
        {
          "output_type": "stream",
          "name": "stdout",
          "text": [
            "Image 0 contains 9 members:\n",
            "['_segments', 'delete', 'delete_all', 'get', 'get_all', 'get_file', 'get_thumbnail', 'has_exif', 'list_all']\n",
            "\n",
            "Image 1 contains 9 members:\n",
            "['_segments', 'delete', 'delete_all', 'get', 'get_all', 'get_file', 'get_thumbnail', 'has_exif', 'list_all']\n",
            "\n"
          ]
        }
      ]
    },
    {
      "cell_type": "code",
      "source": [
        "common_members = set(image_members[0]).intersection(set(image_members[1]))\n",
        "common_members_sorted = sorted(list(common_members))\n",
        "print(\"Image 0 and Image 1 have these members in common:\")\n",
        "print(f\"{common_members_sorted}\")"
      ],
      "metadata": {
        "id": "BL5fEhhpw0O8",
        "outputId": "b267add4-9332-410a-fe56-4188f4b3012a",
        "colab": {
          "base_uri": "https://localhost:8080/"
        }
      },
      "execution_count": 23,
      "outputs": [
        {
          "output_type": "stream",
          "name": "stdout",
          "text": [
            "Image 0 and Image 1 have these members in common:\n",
            "['_segments', 'delete', 'delete_all', 'get', 'get_all', 'get_file', 'get_thumbnail', 'has_exif', 'list_all']\n"
          ]
        }
      ]
    }
  ]
}